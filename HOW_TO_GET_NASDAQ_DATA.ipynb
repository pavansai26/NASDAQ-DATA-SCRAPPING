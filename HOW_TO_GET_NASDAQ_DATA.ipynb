{
  "nbformat": 4,
  "nbformat_minor": 0,
  "metadata": {
    "colab": {
      "name": "HOW TO GET NASDAQ DATA.ipynb",
      "provenance": [],
      "private_outputs": true,
      "authorship_tag": "ABX9TyOjWrWO/vVz7kecOct7ch9V",
      "include_colab_link": true
    },
    "kernelspec": {
      "name": "python3",
      "display_name": "Python 3"
    }
  },
  "cells": [
    {
      "cell_type": "markdown",
      "metadata": {
        "id": "view-in-github",
        "colab_type": "text"
      },
      "source": [
        "<a href=\"https://colab.research.google.com/github/pavansai26/NASDAQ-DATA-SCRAPPING/blob/master/HOW_TO_GET_NASDAQ_DATA.ipynb\" target=\"_parent\"><img src=\"https://colab.research.google.com/assets/colab-badge.svg\" alt=\"Open In Colab\"/></a>"
      ]
    },
    {
      "cell_type": "code",
      "metadata": {
        "id": "N9HlS2mqeHta",
        "colab_type": "code",
        "colab": {}
      },
      "source": [
        "pip install Quandl"
      ],
      "execution_count": null,
      "outputs": []
    },
    {
      "cell_type": "code",
      "metadata": {
        "id": "0lfOQddFeM_g",
        "colab_type": "code",
        "colab": {}
      },
      "source": [
        "import quandl"
      ],
      "execution_count": null,
      "outputs": []
    },
    {
      "cell_type": "code",
      "metadata": {
        "id": "96uImQo0eWDc",
        "colab_type": "code",
        "colab": {}
      },
      "source": [
        "data = quandl.get(\"NASDAQOMX/XQC\", authtoken=\"3fhQcyPVNkxWyB13tvoj\")"
      ],
      "execution_count": null,
      "outputs": []
    },
    {
      "cell_type": "code",
      "metadata": {
        "id": "vc9G4Jlwesdt",
        "colab_type": "code",
        "colab": {}
      },
      "source": [
        "data"
      ],
      "execution_count": null,
      "outputs": []
    },
    {
      "cell_type": "code",
      "metadata": {
        "id": "aucMzbkGeuN7",
        "colab_type": "code",
        "colab": {}
      },
      "source": [
        "data1 = quandl.get(\"NASDAQOMX/XCMPCAD\", authtoken=\"3fhQcyPVNkxWyB13tvoj\")"
      ],
      "execution_count": null,
      "outputs": []
    },
    {
      "cell_type": "code",
      "metadata": {
        "id": "lzIw7q7Yg8Or",
        "colab_type": "code",
        "colab": {}
      },
      "source": [
        "data1"
      ],
      "execution_count": null,
      "outputs": []
    },
    {
      "cell_type": "code",
      "metadata": {
        "id": "qJPJ4cgng98X",
        "colab_type": "code",
        "colab": {}
      },
      "source": [
        ""
      ],
      "execution_count": null,
      "outputs": []
    }
  ]
}